{
 "cells": [
  {
   "cell_type": "code",
   "execution_count": 1,
   "id": "ff05a630-7732-4316-968d-078564e4ca1a",
   "metadata": {
    "tags": []
   },
   "outputs": [
    {
     "name": "stderr",
     "output_type": "stream",
     "text": [
      "/home/alexeynaumov/venv/lib/python3.8/site-packages/tqdm/auto.py:21: TqdmWarning: IProgress not found. Please update jupyter and ipywidgets. See https://ipywidgets.readthedocs.io/en/stable/user_install.html\n",
      "  from .autonotebook import tqdm as notebook_tqdm\n"
     ]
    }
   ],
   "source": [
    "import torch\n",
    "import os\n",
    "# os.environ['CUDA_HOME'] = r'/opt/nvidia/hpc_sdk/Linux_x86_64/23.1/cuda/12.0'\n",
    "from utils.get_model import TQCompressedGPT2ForCausalLM\n",
    "from transformers import AutoTokenizer\n",
    "from huggingface_hub import hf_hub_download"
   ]
  },
  {
   "cell_type": "code",
   "execution_count": 2,
   "id": "c50a7deb-f345-4e0c-9d8e-58bcd5515b3b",
   "metadata": {},
   "outputs": [],
   "source": [
    "model = TQCompressedGPT2ForCausalLM()"
   ]
  },
  {
   "cell_type": "code",
   "execution_count": 4,
   "id": "7768ce94",
   "metadata": {},
   "outputs": [
    {
     "data": {
      "text/plain": [
       "<All keys matched successfully>"
      ]
     },
     "execution_count": 4,
     "metadata": {},
     "output_type": "execute_result"
    }
   ],
   "source": [
    "fpath = hf_hub_download(repo_id=\"tq-ai-research/TQCompressedGPT2\", filename=\"pytorch_model.bin\")\n",
    "model.load_state_dict(torch.load(fpath))"
   ]
  },
  {
   "cell_type": "code",
   "execution_count": 5,
   "id": "697f809d-b686-4f0d-b689-36153d94d1a6",
   "metadata": {},
   "outputs": [],
   "source": [
    "tokenizer = AutoTokenizer.from_pretrained('gpt2')"
   ]
  },
  {
   "cell_type": "code",
   "execution_count": 6,
   "id": "44c3ce20-baff-46e4-b210-5d791f3acf5c",
   "metadata": {},
   "outputs": [],
   "source": [
    "token = tokenizer(['Hi! My favorite NBA team is'],return_tensors=\"pt\")"
   ]
  },
  {
   "cell_type": "code",
   "execution_count": 13,
   "id": "8db6b82d-2cff-4ce5-bf99-af583c11a230",
   "metadata": {},
   "outputs": [
    {
     "name": "stderr",
     "output_type": "stream",
     "text": [
      "Setting `pad_token_id` to `eos_token_id`:50256 for open-end generation.\n"
     ]
    }
   ],
   "source": [
    "generate_kwargs = {\"max_new_tokens\": 10, \"do_sample\": True, \"temperature\": 1.0, \"num_return_sequences\": 1}\n",
    "generation_text = model.generate(**token,**generate_kwargs)"
   ]
  },
  {
   "cell_type": "code",
   "execution_count": 14,
   "id": "57a52c89-f119-4ee0-bc1f-b9b617a459c0",
   "metadata": {},
   "outputs": [
    {
     "data": {
      "text/plain": [
       "'Hi! My favorite NBA team is the Indiana Pacers. I have not had the opportunity'"
      ]
     },
     "execution_count": 14,
     "metadata": {},
     "output_type": "execute_result"
    }
   ],
   "source": [
    "tokenizer.decode(generation_text[0])"
   ]
  },
  {
   "cell_type": "code",
   "execution_count": null,
   "id": "d498ee4d",
   "metadata": {},
   "outputs": [],
   "source": []
  }
 ],
 "metadata": {
  "kernelspec": {
   "display_name": "Python 3 (ipykernel)",
   "language": "python",
   "name": "python3"
  },
  "language_info": {
   "codemirror_mode": {
    "name": "ipython",
    "version": 3
   },
   "file_extension": ".py",
   "mimetype": "text/x-python",
   "name": "python",
   "nbconvert_exporter": "python",
   "pygments_lexer": "ipython3",
   "version": "3.8.10"
  }
 },
 "nbformat": 4,
 "nbformat_minor": 5
}
